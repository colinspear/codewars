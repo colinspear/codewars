{
 "cells": [
  {
   "cell_type": "markdown",
   "metadata": {},
   "source": [
    "# Google foobar challenge!"
   ]
  },
  {
   "cell_type": "code",
   "execution_count": 62,
   "metadata": {},
   "outputs": [],
   "source": [
    "# google's foo.bar challenge #1\n",
    "def solution(x):\n",
    "    # Your code here\n",
    "    \n",
    "    alpha = 'abcdefghijklmnopqrstuvwxyz'\n",
    "    beta = alpha[len(alpha)::-1]\n",
    "    switch = dict(zip(alpha, beta))\n",
    "    y = ''\n",
    "    for l in x:\n",
    "        try:\n",
    "            y = y + switch[l]\n",
    "        except:\n",
    "            y = y + l\n",
    "    \n",
    "    return y"
   ]
  },
  {
   "cell_type": "code",
   "execution_count": 1,
   "metadata": {},
   "outputs": [],
   "source": [
    "# challenge #2\n",
    "def solution(x, y):\n",
    "    row_start = x + y - 1\n",
    "    a = 1 # a is going to be my row index\n",
    "    b = 1 # b is my column index\n",
    "    counter = 1 # counter is my counter (target)\n",
    "    while a < row_start:\n",
    "        counter += a\n",
    "        a += 1\n",
    "    \n",
    "    # counter is now the number in the upper-left most diagonal from the given index\n",
    "    # count down and right from here, with each step down and left incrementing counter by 1 until you hit (x, y)\n",
    "    # counter += 1\n",
    "    # b += 1\n",
    "    # a -= 1\n",
    "    # until (b, a) == (x, y)\n",
    "    \n",
    "    return counter\n",
    "    "
   ]
  },
  {
   "cell_type": "code",
   "execution_count": 3,
   "metadata": {},
   "outputs": [
    {
     "data": {
      "text/plain": [
       "7"
      ]
     },
     "execution_count": 3,
     "metadata": {},
     "output_type": "execute_result"
    }
   ],
   "source": [
    "solution(3, 2)"
   ]
  },
  {
   "cell_type": "code",
   "execution_count": null,
   "metadata": {},
   "outputs": [],
   "source": [
    "\n",
    "count_start = "
   ]
  }
 ],
 "metadata": {
  "kernelspec": {
   "display_name": "Python 3",
   "language": "python",
   "name": "python3"
  },
  "language_info": {
   "codemirror_mode": {
    "name": "ipython",
    "version": 3
   },
   "file_extension": ".py",
   "mimetype": "text/x-python",
   "name": "python",
   "nbconvert_exporter": "python",
   "pygments_lexer": "ipython3",
   "version": "3.7.6"
  }
 },
 "nbformat": 4,
 "nbformat_minor": 4
}
